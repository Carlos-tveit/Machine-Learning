{
  "cells": [
    {
      "cell_type": "markdown",
      "metadata": {
        "id": "yVFIiyXlnEbD"
      },
      "source": [
        "# Group Exam for INFO284\n",
        "\n",
        "\n",
        "\n",
        "\n"
      ]
    },
    {
      "cell_type": "markdown",
      "source": [
        "# **Introduction**\n",
        "\n",
        "In this project, we tackled two main tasks: Sentiment Analysis and Convolutional Neural Networks. These tasks show how machine learning can be used for text and image analysis, and let us apply what we learned in the INFO284 course.\n",
        "For both tasks, we followed these steps: exploring the data, cleaning and preparing it, building different models, and testing how well they work. We explain why we made certain choices at each step and what we learned from the results.\n",
        "The next sections show our work on each task, from understanding the data to evaluating our final models."
      ],
      "metadata": {
        "id": "64wLcBAyeECN"
      }
    },
    {
      "cell_type": "markdown",
      "source": [
        "Jupyter Notebook magic command that autosaves the notebook every 5 seconds."
      ],
      "metadata": {
        "id": "kBurL3ALuelb"
      }
    },
    {
      "cell_type": "code",
      "source": [
        "%autosave 5"
      ],
      "metadata": {
        "colab": {
          "base_uri": "https://localhost:8080/",
          "height": 35
        },
        "id": "fyxZfGNbVSKX",
        "outputId": "a2da7b07-0cb5-4002-bf6a-430a69302d31"
      },
      "execution_count": null,
      "outputs": [
        {
          "output_type": "display_data",
          "data": {
            "application/javascript": [
              "IPython.notebook.set_autosave_interval(5000)"
            ]
          },
          "metadata": {}
        },
        {
          "output_type": "stream",
          "name": "stdout",
          "text": [
            "Autosaving every 5 seconds\n"
          ]
        }
      ]
    },
    {
      "cell_type": "markdown",
      "source": [
        "Checks the total amount of words in all markdown cells"
      ],
      "metadata": {
        "id": "bHMsbYKB6Ota"
      }
    },
    {
      "cell_type": "code",
      "source": [
        "from google.colab import _message\n",
        "import re\n",
        "\n",
        "def get_markdown_word_count():\n",
        "    # Get the notebook content\n",
        "    response = _message.blocking_request('get_ipynb')\n",
        "    notebook = response['ipynb']\n",
        "    cells = notebook['cells']\n",
        "\n",
        "    word_count = 0\n",
        "\n",
        "    for cell in cells:\n",
        "        if cell['cell_type'] == 'markdown':\n",
        "            source = ''.join(cell['source'])\n",
        "            # Strip common markdown syntax\n",
        "            source = re.sub(r'\\[(.*?)\\]\\(.*?\\)', r'\\1', source)  # Links\n",
        "            source = re.sub(r'!\\[.*?\\]\\(.*?\\)', '', source)      # Images\n",
        "            source = re.sub(r'[`*>#\\-\\n]', ' ', source)          # Markdown symbols\n",
        "            words = re.findall(r'\\b\\w+\\b', source)\n",
        "            word_count += len(words)\n",
        "\n",
        "    print(f\"Total words in Markdown cells: {word_count}\")\n",
        "\n",
        "get_markdown_word_count()"
      ],
      "metadata": {
        "colab": {
          "base_uri": "https://localhost:8080/"
        },
        "id": "MKkZ6gqj1urg",
        "outputId": "cc4bde89-e774-47f7-fb74-78e603a7e031"
      },
      "execution_count": null,
      "outputs": [
        {
          "output_type": "stream",
          "name": "stdout",
          "text": [
            "Total words in Markdown cells: 2250\n"
          ]
        }
      ]
    },
    {
      "cell_type": "markdown",
      "source": [
        "This code cell downloads the CSV file we use in task 1 and image file in task 2 from Google Drive to the local file system of the Google Colab environment. Since Google Colab sessions are temporary and any files stored locally will disappear once the session ends or times out, this code ensures that the file is downloaded only if it does not already exist in the current session. This approach helps manage the large file size of the dataset efficiently, avoiding redundant downloads and saving time and bandwidth. Additionally due to it being so large we decided to sample 100000 rows instead of the full 500000 for faster load times\n",
        "\n",
        "\n"
      ],
      "metadata": {
        "id": "5ZTOq9K5SRHW"
      }
    },
    {
      "cell_type": "code",
      "source": [
        "import os\n",
        "import pandas as pd\n",
        "\n",
        "file_path = \"/content/Hotel_Reviews.csv\"\n",
        "file_path2 = \"/content/new_cat.jpg\"\n",
        "# Check if file already exists before downloading\n",
        "if not os.path.exists(file_path):\n",
        "    print(\"Downloading file...\")\n",
        "    !gdown --id 1LhE0yNkjDkLjGmTDx5Iq2_FD19dtiW37 -O Hotel_Reviews.csv\n",
        "else:\n",
        "    print(\"File already exists, skipping download.\")\n",
        "\n",
        "\n",
        "# Check if cat image already exists before downloading\n",
        "if not os.path.exists(file_path2):\n",
        "    print(\"Downloading cat image...\")\n",
        "    !gdown --id 1LD7FaDd4HZhUZCG7BWkVpiiIL1Dva_Z1 -O new_cat.jpg\n",
        "else:\n",
        "    print(\"Cat image already exists, skipping download.\")\n",
        "\n",
        "\n",
        "# Selects 100000 rows instead of all the 500000 rows to speed\n",
        "# up the models. 100000 rows is enough data\n",
        "df = pd.read_csv('/content/Hotel_Reviews.csv', nrows=100000)\n",
        "\n",
        "\n",
        "\n",
        "# Remove duplicate rows\n",
        "print(\"Duplicated rows before: \", df.duplicated().sum())\n",
        "df.drop_duplicates(inplace=True)\n",
        "print(\"Duplicated rows after: \", df.duplicated().sum())\n",
        "\n",
        "\n",
        "# Finds average score\n",
        "a_score = df['Reviewer_Score'].mean()\n",
        "print(\"Average: \")\n",
        "print(a_score)\n",
        "\n",
        "\n",
        "df.head(10)  # Display the first few rows to verify\n",
        "\n",
        "df.info()  # Get information about the DataFrame\n",
        "\n",
        "df.describe()  # Get summary statistics of numerical columns\n"
      ],
      "metadata": {
        "colab": {
          "base_uri": "https://localhost:8080/",
          "height": 1088
        },
        "id": "YEVhCsUCFLPh",
        "outputId": "3eae1d23-402d-4067-ef1f-980c0de2bf78",
        "collapsed": true
      },
      "execution_count": null,
      "outputs": [
        {
          "output_type": "stream",
          "name": "stdout",
          "text": [
            "Downloading file...\n",
            "/usr/local/lib/python3.11/dist-packages/gdown/__main__.py:140: FutureWarning: Option `--id` was deprecated in version 4.3.1 and will be removed in 5.0. You don't need to pass it anymore to use a file ID.\n",
            "  warnings.warn(\n",
            "Downloading...\n",
            "From (original): https://drive.google.com/uc?id=1LhE0yNkjDkLjGmTDx5Iq2_FD19dtiW37\n",
            "From (redirected): https://drive.google.com/uc?id=1LhE0yNkjDkLjGmTDx5Iq2_FD19dtiW37&confirm=t&uuid=7ffb00b5-30f7-4f5f-a066-e33685bdc3ae\n",
            "To: /content/Hotel_Reviews.csv\n",
            "100% 238M/238M [00:01<00:00, 122MB/s]\n",
            "Downloading cat image...\n",
            "/usr/local/lib/python3.11/dist-packages/gdown/__main__.py:140: FutureWarning: Option `--id` was deprecated in version 4.3.1 and will be removed in 5.0. You don't need to pass it anymore to use a file ID.\n",
            "  warnings.warn(\n",
            "Downloading...\n",
            "From: https://drive.google.com/uc?id=1LD7FaDd4HZhUZCG7BWkVpiiIL1Dva_Z1\n",
            "To: /content/new_cat.jpg\n",
            "100% 33.4k/33.4k [00:00<00:00, 65.5MB/s]\n",
            "Duplicated rows before:  34\n",
            "Duplicated rows after:  0\n",
            "Average: \n",
            "8.378969849748914\n",
            "<class 'pandas.core.frame.DataFrame'>\n",
            "Index: 99966 entries, 0 to 99999\n",
            "Data columns (total 17 columns):\n",
            " #   Column                                      Non-Null Count  Dtype  \n",
            "---  ------                                      --------------  -----  \n",
            " 0   Hotel_Address                               99966 non-null  object \n",
            " 1   Additional_Number_of_Scoring                99966 non-null  int64  \n",
            " 2   Review_Date                                 99966 non-null  object \n",
            " 3   Average_Score                               99966 non-null  float64\n",
            " 4   Hotel_Name                                  99966 non-null  object \n",
            " 5   Reviewer_Nationality                        99966 non-null  object \n",
            " 6   Negative_Review                             99966 non-null  object \n",
            " 7   Review_Total_Negative_Word_Counts           99966 non-null  int64  \n",
            " 8   Total_Number_of_Reviews                     99966 non-null  int64  \n",
            " 9   Positive_Review                             99966 non-null  object \n",
            " 10  Review_Total_Positive_Word_Counts           99966 non-null  int64  \n",
            " 11  Total_Number_of_Reviews_Reviewer_Has_Given  99966 non-null  int64  \n",
            " 12  Reviewer_Score                              99966 non-null  float64\n",
            " 13  Tags                                        99966 non-null  object \n",
            " 14  days_since_review                           99966 non-null  object \n",
            " 15  lat                                         99929 non-null  float64\n",
            " 16  lng                                         99929 non-null  float64\n",
            "dtypes: float64(4), int64(5), object(8)\n",
            "memory usage: 13.7+ MB\n"
          ]
        },
        {
          "output_type": "execute_result",
          "data": {
            "text/plain": [
              "       Additional_Number_of_Scoring  Average_Score  \\\n",
              "count                  99966.000000   99966.000000   \n",
              "mean                     593.743963       8.390082   \n",
              "std                      604.218491       0.594158   \n",
              "min                        5.000000       6.800000   \n",
              "25%                      196.000000       8.000000   \n",
              "50%                      421.000000       8.400000   \n",
              "75%                      728.000000       8.900000   \n",
              "max                     2682.000000       9.800000   \n",
              "\n",
              "       Review_Total_Negative_Word_Counts  Total_Number_of_Reviews  \\\n",
              "count                       99966.000000             99966.000000   \n",
              "mean                           18.578017              2500.724996   \n",
              "std                            29.339856              2117.931051   \n",
              "min                             0.000000                45.000000   \n",
              "25%                             2.000000              1016.000000   \n",
              "50%                             9.000000              2007.000000   \n",
              "75%                            24.000000              2903.000000   \n",
              "max                           401.000000              9086.000000   \n",
              "\n",
              "       Review_Total_Positive_Word_Counts  \\\n",
              "count                       99966.000000   \n",
              "mean                           17.311896   \n",
              "std                            20.930530   \n",
              "min                             0.000000   \n",
              "25%                             5.000000   \n",
              "50%                            11.000000   \n",
              "75%                            22.000000   \n",
              "max                           383.000000   \n",
              "\n",
              "       Total_Number_of_Reviews_Reviewer_Has_Given  Reviewer_Score  \\\n",
              "count                                99966.000000    99966.000000   \n",
              "mean                                     6.577416        8.378970   \n",
              "std                                     10.270339        1.664034   \n",
              "min                                      1.000000        2.500000   \n",
              "25%                                      1.000000        7.500000   \n",
              "50%                                      3.000000        8.800000   \n",
              "75%                                      8.000000        9.600000   \n",
              "max                                    315.000000       10.000000   \n",
              "\n",
              "                lat           lng  \n",
              "count  99929.000000  99929.000000  \n",
              "mean      50.986012      0.376489  \n",
              "std        1.060941      1.026313  \n",
              "min       48.817808     -0.319292  \n",
              "25%       51.491888     -0.170307  \n",
              "50%       51.502702     -0.125160  \n",
              "75%       51.515052     -0.023221  \n",
              "max       52.360576      4.915968  "
            ],
            "text/html": [
              "\n",
              "  <div id=\"df-459bc033-8154-4de2-bb62-845cc6ebb3a6\" class=\"colab-df-container\">\n",
              "    <div>\n",
              "<style scoped>\n",
              "    .dataframe tbody tr th:only-of-type {\n",
              "        vertical-align: middle;\n",
              "    }\n",
              "\n",
              "    .dataframe tbody tr th {\n",
              "        vertical-align: top;\n",
              "    }\n",
              "\n",
              "    .dataframe thead th {\n",
              "        text-align: right;\n",
              "    }\n",
              "</style>\n",
              "<table border=\"1\" class=\"dataframe\">\n",
              "  <thead>\n",
              "    <tr style=\"text-align: right;\">\n",
              "      <th></th>\n",
              "      <th>Additional_Number_of_Scoring</th>\n",
              "      <th>Average_Score</th>\n",
              "      <th>Review_Total_Negative_Word_Counts</th>\n",
              "      <th>Total_Number_of_Reviews</th>\n",
              "      <th>Review_Total_Positive_Word_Counts</th>\n",
              "      <th>Total_Number_of_Reviews_Reviewer_Has_Given</th>\n",
              "      <th>Reviewer_Score</th>\n",
              "      <th>lat</th>\n",
              "      <th>lng</th>\n",
              "    </tr>\n",
              "  </thead>\n",
              "  <tbody>\n",
              "    <tr>\n",
              "      <th>count</th>\n",
              "      <td>99966.000000</td>\n",
              "      <td>99966.000000</td>\n",
              "      <td>99966.000000</td>\n",
              "      <td>99966.000000</td>\n",
              "      <td>99966.000000</td>\n",
              "      <td>99966.000000</td>\n",
              "      <td>99966.000000</td>\n",
              "      <td>99929.000000</td>\n",
              "      <td>99929.000000</td>\n",
              "    </tr>\n",
              "    <tr>\n",
              "      <th>mean</th>\n",
              "      <td>593.743963</td>\n",
              "      <td>8.390082</td>\n",
              "      <td>18.578017</td>\n",
              "      <td>2500.724996</td>\n",
              "      <td>17.311896</td>\n",
              "      <td>6.577416</td>\n",
              "      <td>8.378970</td>\n",
              "      <td>50.986012</td>\n",
              "      <td>0.376489</td>\n",
              "    </tr>\n",
              "    <tr>\n",
              "      <th>std</th>\n",
              "      <td>604.218491</td>\n",
              "      <td>0.594158</td>\n",
              "      <td>29.339856</td>\n",
              "      <td>2117.931051</td>\n",
              "      <td>20.930530</td>\n",
              "      <td>10.270339</td>\n",
              "      <td>1.664034</td>\n",
              "      <td>1.060941</td>\n",
              "      <td>1.026313</td>\n",
              "    </tr>\n",
              "    <tr>\n",
              "      <th>min</th>\n",
              "      <td>5.000000</td>\n",
              "      <td>6.800000</td>\n",
              "      <td>0.000000</td>\n",
              "      <td>45.000000</td>\n",
              "      <td>0.000000</td>\n",
              "      <td>1.000000</td>\n",
              "      <td>2.500000</td>\n",
              "      <td>48.817808</td>\n",
              "      <td>-0.319292</td>\n",
              "    </tr>\n",
              "    <tr>\n",
              "      <th>25%</th>\n",
              "      <td>196.000000</td>\n",
              "      <td>8.000000</td>\n",
              "      <td>2.000000</td>\n",
              "      <td>1016.000000</td>\n",
              "      <td>5.000000</td>\n",
              "      <td>1.000000</td>\n",
              "      <td>7.500000</td>\n",
              "      <td>51.491888</td>\n",
              "      <td>-0.170307</td>\n",
              "    </tr>\n",
              "    <tr>\n",
              "      <th>50%</th>\n",
              "      <td>421.000000</td>\n",
              "      <td>8.400000</td>\n",
              "      <td>9.000000</td>\n",
              "      <td>2007.000000</td>\n",
              "      <td>11.000000</td>\n",
              "      <td>3.000000</td>\n",
              "      <td>8.800000</td>\n",
              "      <td>51.502702</td>\n",
              "      <td>-0.125160</td>\n",
              "    </tr>\n",
              "    <tr>\n",
              "      <th>75%</th>\n",
              "      <td>728.000000</td>\n",
              "      <td>8.900000</td>\n",
              "      <td>24.000000</td>\n",
              "      <td>2903.000000</td>\n",
              "      <td>22.000000</td>\n",
              "      <td>8.000000</td>\n",
              "      <td>9.600000</td>\n",
              "      <td>51.515052</td>\n",
              "      <td>-0.023221</td>\n",
              "    </tr>\n",
              "    <tr>\n",
              "      <th>max</th>\n",
              "      <td>2682.000000</td>\n",
              "      <td>9.800000</td>\n",
              "      <td>401.000000</td>\n",
              "      <td>9086.000000</td>\n",
              "      <td>383.000000</td>\n",
              "      <td>315.000000</td>\n",
              "      <td>10.000000</td>\n",
              "      <td>52.360576</td>\n",
              "      <td>4.915968</td>\n",
              "    </tr>\n",
              "  </tbody>\n",
              "</table>\n",
              "</div>\n",
              "    <div class=\"colab-df-buttons\">\n",
              "\n",
              "  <div class=\"colab-df-container\">\n",
              "    <button class=\"colab-df-convert\" onclick=\"convertToInteractive('df-459bc033-8154-4de2-bb62-845cc6ebb3a6')\"\n",
              "            title=\"Convert this dataframe to an interactive table.\"\n",
              "            style=\"display:none;\">\n",
              "\n",
              "  <svg xmlns=\"http://www.w3.org/2000/svg\" height=\"24px\" viewBox=\"0 -960 960 960\">\n",
              "    <path d=\"M120-120v-720h720v720H120Zm60-500h600v-160H180v160Zm220 220h160v-160H400v160Zm0 220h160v-160H400v160ZM180-400h160v-160H180v160Zm440 0h160v-160H620v160ZM180-180h160v-160H180v160Zm440 0h160v-160H620v160Z\"/>\n",
              "  </svg>\n",
              "    </button>\n",
              "\n",
              "  <style>\n",
              "    .colab-df-container {\n",
              "      display:flex;\n",
              "      gap: 12px;\n",
              "    }\n",
              "\n",
              "    .colab-df-convert {\n",
              "      background-color: #E8F0FE;\n",
              "      border: none;\n",
              "      border-radius: 50%;\n",
              "      cursor: pointer;\n",
              "      display: none;\n",
              "      fill: #1967D2;\n",
              "      height: 32px;\n",
              "      padding: 0 0 0 0;\n",
              "      width: 32px;\n",
              "    }\n",
              "\n",
              "    .colab-df-convert:hover {\n",
              "      background-color: #E2EBFA;\n",
              "      box-shadow: 0px 1px 2px rgba(60, 64, 67, 0.3), 0px 1px 3px 1px rgba(60, 64, 67, 0.15);\n",
              "      fill: #174EA6;\n",
              "    }\n",
              "\n",
              "    .colab-df-buttons div {\n",
              "      margin-bottom: 4px;\n",
              "    }\n",
              "\n",
              "    [theme=dark] .colab-df-convert {\n",
              "      background-color: #3B4455;\n",
              "      fill: #D2E3FC;\n",
              "    }\n",
              "\n",
              "    [theme=dark] .colab-df-convert:hover {\n",
              "      background-color: #434B5C;\n",
              "      box-shadow: 0px 1px 3px 1px rgba(0, 0, 0, 0.15);\n",
              "      filter: drop-shadow(0px 1px 2px rgba(0, 0, 0, 0.3));\n",
              "      fill: #FFFFFF;\n",
              "    }\n",
              "  </style>\n",
              "\n",
              "    <script>\n",
              "      const buttonEl =\n",
              "        document.querySelector('#df-459bc033-8154-4de2-bb62-845cc6ebb3a6 button.colab-df-convert');\n",
              "      buttonEl.style.display =\n",
              "        google.colab.kernel.accessAllowed ? 'block' : 'none';\n",
              "\n",
              "      async function convertToInteractive(key) {\n",
              "        const element = document.querySelector('#df-459bc033-8154-4de2-bb62-845cc6ebb3a6');\n",
              "        const dataTable =\n",
              "          await google.colab.kernel.invokeFunction('convertToInteractive',\n",
              "                                                    [key], {});\n",
              "        if (!dataTable) return;\n",
              "\n",
              "        const docLinkHtml = 'Like what you see? Visit the ' +\n",
              "          '<a target=\"_blank\" href=https://colab.research.google.com/notebooks/data_table.ipynb>data table notebook</a>'\n",
              "          + ' to learn more about interactive tables.';\n",
              "        element.innerHTML = '';\n",
              "        dataTable['output_type'] = 'display_data';\n",
              "        await google.colab.output.renderOutput(dataTable, element);\n",
              "        const docLink = document.createElement('div');\n",
              "        docLink.innerHTML = docLinkHtml;\n",
              "        element.appendChild(docLink);\n",
              "      }\n",
              "    </script>\n",
              "  </div>\n",
              "\n",
              "\n",
              "    <div id=\"df-9f22314c-c441-4b10-aa38-266299e0577f\">\n",
              "      <button class=\"colab-df-quickchart\" onclick=\"quickchart('df-9f22314c-c441-4b10-aa38-266299e0577f')\"\n",
              "                title=\"Suggest charts\"\n",
              "                style=\"display:none;\">\n",
              "\n",
              "<svg xmlns=\"http://www.w3.org/2000/svg\" height=\"24px\"viewBox=\"0 0 24 24\"\n",
              "     width=\"24px\">\n",
              "    <g>\n",
              "        <path d=\"M19 3H5c-1.1 0-2 .9-2 2v14c0 1.1.9 2 2 2h14c1.1 0 2-.9 2-2V5c0-1.1-.9-2-2-2zM9 17H7v-7h2v7zm4 0h-2V7h2v10zm4 0h-2v-4h2v4z\"/>\n",
              "    </g>\n",
              "</svg>\n",
              "      </button>\n",
              "\n",
              "<style>\n",
              "  .colab-df-quickchart {\n",
              "      --bg-color: #E8F0FE;\n",
              "      --fill-color: #1967D2;\n",
              "      --hover-bg-color: #E2EBFA;\n",
              "      --hover-fill-color: #174EA6;\n",
              "      --disabled-fill-color: #AAA;\n",
              "      --disabled-bg-color: #DDD;\n",
              "  }\n",
              "\n",
              "  [theme=dark] .colab-df-quickchart {\n",
              "      --bg-color: #3B4455;\n",
              "      --fill-color: #D2E3FC;\n",
              "      --hover-bg-color: #434B5C;\n",
              "      --hover-fill-color: #FFFFFF;\n",
              "      --disabled-bg-color: #3B4455;\n",
              "      --disabled-fill-color: #666;\n",
              "  }\n",
              "\n",
              "  .colab-df-quickchart {\n",
              "    background-color: var(--bg-color);\n",
              "    border: none;\n",
              "    border-radius: 50%;\n",
              "    cursor: pointer;\n",
              "    display: none;\n",
              "    fill: var(--fill-color);\n",
              "    height: 32px;\n",
              "    padding: 0;\n",
              "    width: 32px;\n",
              "  }\n",
              "\n",
              "  .colab-df-quickchart:hover {\n",
              "    background-color: var(--hover-bg-color);\n",
              "    box-shadow: 0 1px 2px rgba(60, 64, 67, 0.3), 0 1px 3px 1px rgba(60, 64, 67, 0.15);\n",
              "    fill: var(--button-hover-fill-color);\n",
              "  }\n",
              "\n",
              "  .colab-df-quickchart-complete:disabled,\n",
              "  .colab-df-quickchart-complete:disabled:hover {\n",
              "    background-color: var(--disabled-bg-color);\n",
              "    fill: var(--disabled-fill-color);\n",
              "    box-shadow: none;\n",
              "  }\n",
              "\n",
              "  .colab-df-spinner {\n",
              "    border: 2px solid var(--fill-color);\n",
              "    border-color: transparent;\n",
              "    border-bottom-color: var(--fill-color);\n",
              "    animation:\n",
              "      spin 1s steps(1) infinite;\n",
              "  }\n",
              "\n",
              "  @keyframes spin {\n",
              "    0% {\n",
              "      border-color: transparent;\n",
              "      border-bottom-color: var(--fill-color);\n",
              "      border-left-color: var(--fill-color);\n",
              "    }\n",
              "    20% {\n",
              "      border-color: transparent;\n",
              "      border-left-color: var(--fill-color);\n",
              "      border-top-color: var(--fill-color);\n",
              "    }\n",
              "    30% {\n",
              "      border-color: transparent;\n",
              "      border-left-color: var(--fill-color);\n",
              "      border-top-color: var(--fill-color);\n",
              "      border-right-color: var(--fill-color);\n",
              "    }\n",
              "    40% {\n",
              "      border-color: transparent;\n",
              "      border-right-color: var(--fill-color);\n",
              "      border-top-color: var(--fill-color);\n",
              "    }\n",
              "    60% {\n",
              "      border-color: transparent;\n",
              "      border-right-color: var(--fill-color);\n",
              "    }\n",
              "    80% {\n",
              "      border-color: transparent;\n",
              "      border-right-color: var(--fill-color);\n",
              "      border-bottom-color: var(--fill-color);\n",
              "    }\n",
              "    90% {\n",
              "      border-color: transparent;\n",
              "      border-bottom-color: var(--fill-color);\n",
              "    }\n",
              "  }\n",
              "</style>\n",
              "\n",
              "      <script>\n",
              "        async function quickchart(key) {\n",
              "          const quickchartButtonEl =\n",
              "            document.querySelector('#' + key + ' button');\n",
              "          quickchartButtonEl.disabled = true;  // To prevent multiple clicks.\n",
              "          quickchartButtonEl.classList.add('colab-df-spinner');\n",
              "          try {\n",
              "            const charts = await google.colab.kernel.invokeFunction(\n",
              "                'suggestCharts', [key], {});\n",
              "          } catch (error) {\n",
              "            console.error('Error during call to suggestCharts:', error);\n",
              "          }\n",
              "          quickchartButtonEl.classList.remove('colab-df-spinner');\n",
              "          quickchartButtonEl.classList.add('colab-df-quickchart-complete');\n",
              "        }\n",
              "        (() => {\n",
              "          let quickchartButtonEl =\n",
              "            document.querySelector('#df-9f22314c-c441-4b10-aa38-266299e0577f button');\n",
              "          quickchartButtonEl.style.display =\n",
              "            google.colab.kernel.accessAllowed ? 'block' : 'none';\n",
              "        })();\n",
              "      </script>\n",
              "    </div>\n",
              "\n",
              "    </div>\n",
              "  </div>\n"
            ],
            "application/vnd.google.colaboratory.intrinsic+json": {
              "type": "dataframe",
              "summary": "{\n  \"name\": \"df\",\n  \"rows\": 8,\n  \"fields\": [\n    {\n      \"column\": \"Additional_Number_of_Scoring\",\n      \"properties\": {\n        \"dtype\": \"number\",\n        \"std\": 35088.83368031442,\n        \"min\": 5.0,\n        \"max\": 99966.0,\n        \"num_unique_values\": 8,\n        \"samples\": [\n          593.7439629474021,\n          421.0,\n          99966.0\n        ],\n        \"semantic_type\": \"\",\n        \"description\": \"\"\n      }\n    },\n    {\n      \"column\": \"Average_Score\",\n      \"properties\": {\n        \"dtype\": \"number\",\n        \"std\": 35340.7483168382,\n        \"min\": 0.5941584955635183,\n        \"max\": 99966.0,\n        \"num_unique_values\": 8,\n        \"samples\": [\n          8.390081627753437,\n          8.4,\n          99966.0\n        ],\n        \"semantic_type\": \"\",\n        \"description\": \"\"\n      }\n    },\n    {\n      \"column\": \"Review_Total_Negative_Word_Counts\",\n      \"properties\": {\n        \"dtype\": \"number\",\n        \"std\": 35319.13802113316,\n        \"min\": 0.0,\n        \"max\": 99966.0,\n        \"num_unique_values\": 8,\n        \"samples\": [\n          18.57801652561871,\n          9.0,\n          99966.0\n        ],\n        \"semantic_type\": \"\",\n        \"description\": \"\"\n      }\n    },\n    {\n      \"column\": \"Total_Number_of_Reviews\",\n      \"properties\": {\n        \"dtype\": \"number\",\n        \"std\": 34456.43173576095,\n        \"min\": 45.0,\n        \"max\": 99966.0,\n        \"num_unique_values\": 8,\n        \"samples\": [\n          2500.7249964988096,\n          2007.0,\n          99966.0\n        ],\n        \"semantic_type\": \"\",\n        \"description\": \"\"\n      }\n    },\n    {\n      \"column\": \"Review_Total_Positive_Word_Counts\",\n      \"properties\": {\n        \"dtype\": \"number\",\n        \"std\": 35320.36148545524,\n        \"min\": 0.0,\n        \"max\": 99966.0,\n        \"num_unique_values\": 8,\n        \"samples\": [\n          17.31189604465518,\n          11.0,\n          99966.0\n        ],\n        \"semantic_type\": \"\",\n        \"description\": \"\"\n      }\n    },\n    {\n      \"column\": \"Total_Number_of_Reviews_Reviewer_Has_Given\",\n      \"properties\": {\n        \"dtype\": \"number\",\n        \"std\": 35326.06753532046,\n        \"min\": 1.0,\n        \"max\": 99966.0,\n        \"num_unique_values\": 7,\n        \"samples\": [\n          99966.0,\n          6.577416321549327,\n          8.0\n        ],\n        \"semantic_type\": \"\",\n        \"description\": \"\"\n      }\n    },\n    {\n      \"column\": \"Reviewer_Score\",\n      \"properties\": {\n        \"dtype\": \"number\",\n        \"std\": 35340.87164397812,\n        \"min\": 1.6640344758777859,\n        \"max\": 99966.0,\n        \"num_unique_values\": 8,\n        \"samples\": [\n          8.378969849748914,\n          8.8,\n          99966.0\n        ],\n        \"semantic_type\": \"\",\n        \"description\": \"\"\n      }\n    },\n    {\n      \"column\": \"lat\",\n      \"properties\": {\n        \"dtype\": \"number\",\n        \"std\": 35314.698162905435,\n        \"min\": 1.060940839328449,\n        \"max\": 99929.0,\n        \"num_unique_values\": 8,\n        \"samples\": [\n          50.98601154566143,\n          51.5027022,\n          99929.0\n        ],\n        \"semantic_type\": \"\",\n        \"description\": \"\"\n      }\n    },\n    {\n      \"column\": \"lng\",\n      \"properties\": {\n        \"dtype\": \"number\",\n        \"std\": 35329.9498876528,\n        \"min\": -0.3192925,\n        \"max\": 99929.0,\n        \"num_unique_values\": 8,\n        \"samples\": [\n          0.3764890822143722,\n          -0.1251602,\n          99929.0\n        ],\n        \"semantic_type\": \"\",\n        \"description\": \"\"\n      }\n    }\n  ]\n}"
            }
          },
          "metadata": {},
          "execution_count": 4
        }
      ]
    },
    {
      "cell_type": "markdown",
      "source": [
        "To ensure that all the necessary libraries are available to run this notebook, we have generated a `requirements.txt` file. This file lists all the libraries and their respective versions that are required for this project, as well as the libraries that come with the standard Google Colab environment. As a result, many libraries in the file may be redundant and not in use.\n",
        "\n",
        "However, to highlight the most important libraries that provide the core functionality for this project, they are:\n",
        "\n",
        "- **pandas**: Essential for data manipulation and analysis. It provides powerful data structures like DataFrames, which are crucial for handling and processing structured data.\n",
        "- **scikit-learn (sklearn)**: A comprehensive machine learning library that offers tools for model selection, training, evaluation, and various machine learning algorithms.\n",
        "- **NumPy**: Fundamental for numerical computing. It provides support for large multi-dimensional arrays and matrices, along with a collection of mathematical functions to operate on these arrays.\n",
        "- **TensorFlow**: An open-source deep learning framework developed by Google. It is widely used for building and training neural networks and other complex machine learning models.\n",
        "- **matplotlib**: A plotting library used for creating static, animated, and interactive visualizations in Python. It is essential for data visualization, allowing us to create various types of plots and charts to better understand our data.\n",
        "\n",
        "- **Seaborn**: A statistical data visualization library built on matplotlib. It provides elegant, informative graphics and simplified interfaces for creating complex statistical visualizations with minimal code.\n",
        "\n",
        "\n",
        "These libraries are integral to the various stages of data processing, model building, and evaluation in our project.\n",
        "\n",
        "We used the following command in our Google Colab environment to generate the `requirements.txt` file:\n"
      ],
      "metadata": {
        "id": "4XgwqdM4MNlT"
      }
    },
    {
      "cell_type": "code",
      "source": [
        "#Command that creates the txt file with all the installed libraries\n",
        "!pip freeze > requirements.txt\n"
      ],
      "metadata": {
        "id": "oH54LDv5ClgR"
      },
      "execution_count": null,
      "outputs": []
    },
    {
      "cell_type": "markdown",
      "source": [
        "# **Task 1:**\n",
        "\n",
        "\n",
        "\n",
        "\n",
        "\n",
        "\n",
        "\n",
        "\n",
        "\n",
        "\n",
        "**Task I: Sentiment Analysis**\n",
        "\n",
        "For the first task, we performed necessary preprocessing and used different models on the Hotel_Reviews.csv file.\n",
        "\n",
        "Exploratory Data Analysis and Preprocessing:\n",
        "\n",
        "In order to gain a sufficient understanding of the data for developing the models and perform data cleaning as well as feature engineering, we analyzed the feature columns to identify which data is most relevant and will have an effect on our label column, `Reviewer_Score` . The goal was to derive meaningful insights and determine which features significantly impacted our sentiment label and which were redundant.\n",
        "\n",
        "Finding out which features to remove was quite a straightforward process. We had to look at which ones were redundant or less relevant to our analysis. Specifically, we focused on identifying columns that did not provide additional value or that had better alternatives. For instance, we decided to remove the `Review_Date` column because the dataset already includes a more convenient and directly usable column, `days_since_review`.\n",
        "\n",
        "The `days_since_review` column contains numerical values representing the number of days since the review was written, such as \"10 days\". This numerical format is easier to convert and more suitable for our models to use. By using days_since_review, we avoid the additional preprocessing steps required to convert `Review_Date` into a numerical format. This simplifies our data preparation process and ensures consistency and accuracy in our models. The same principle applies to the other columns we chose to remove, such as `Hotel_Address`, as we identified better alternatives. Further details can be found later in the project.\"\n",
        "\n",
        "\n",
        "\n",
        "\n",
        "\n"
      ],
      "metadata": {
        "id": "K6KrOLQXxJiU"
      }
    },
    {
      "cell_type": "markdown",
      "source": [
        "Columns that can be removed and why:\n",
        "- Review_Date: \"Redundant info with days_since_review\"\n",
        "- Hotel_Address: \"Redundant info with Hotel_Name, lat and lng\"\n",
        "- Negative_Review: \"Review_Total_Negative_Word_Counts shows almost the same data in a numerical way\"\n",
        "- Positive_Review: \"Review_Total_Positive_Word_Counts shows almost the same data in a numerical way\"\n",
        "\n",
        "\n",
        "\n",
        "This code cell removes the columns which we found redundant from our dataset and additionally removes any missing values by applying the \"dropna\" method. Then prints a list of the ones that are left after removal."
      ],
      "metadata": {
        "id": "Nr2gSnUpYTM-"
      }
    },
    {
      "cell_type": "code",
      "source": [
        "df = df.drop(columns=['Review_Date', 'Hotel_Address', 'Negative_Review', 'Positive_Review', 'Tags', 'lat', 'lng'], errors='ignore').dropna() #Removes columns and missing values\n",
        "\n",
        "print(df.columns.tolist()) #Print to check which columns are left"
      ],
      "metadata": {
        "id": "sK7o2n3tbtYg",
        "colab": {
          "base_uri": "https://localhost:8080/"
        },
        "outputId": "2837f621-6bac-4fd8-8c4f-699d5eae5db9",
        "collapsed": true
      },
      "execution_count": null,
      "outputs": [
        {
          "output_type": "stream",
          "name": "stdout",
          "text": [
            "['Additional_Number_of_Scoring', 'Average_Score', 'Hotel_Name', 'Reviewer_Nationality', 'Review_Total_Negative_Word_Counts', 'Total_Number_of_Reviews', 'Review_Total_Positive_Word_Counts', 'Total_Number_of_Reviews_Reviewer_Has_Given', 'Reviewer_Score', 'days_since_review']\n"
          ]
        }
      ]
    },
    {
      "cell_type": "markdown",
      "source": [
        "After removing the unnecessary columns, we use the `LabelEncoder` from the `sklearn.preprocessing` module to convert categorical data into numerical format. This step is essential because the machine learning models we are going to use require numerical input to operate correctly.\n",
        "\n",
        "A copy of the original dataframe is created and named `df_new`. An empty dictionary, `label_encoders_new`, is initialized to store the `LabelEncoder` instances for each categorical column listed in `categorical_columns_new`. We then iterate through each column in the `categorical_columns_new` list. For each column, a new `LabelEncoder` instance is created. The `fit_transform` method is used to fit the encoder to the values in each column and transform them into numeric labels. Each `LabelEncoder` instance is stored in the `label_encoders_new` dictionary for potential future use, such as inverse transformation.\n",
        "\n",
        "To prepare the data for binary sentiment classification, we create a new column called `sentiment_label`, which classifies a review as positive (1) if the `Reviewer_Score` is greater than 8.0, and negative (0) otherwise. This threshold of 8.0 was selected based on the average score in the dataset, serving as a reasonable dividing line between satisfied and less satisfied reviews.\n",
        "\n",
        "Next, we define the feature set `X` by dropping the `sentiment_label` and `Reviewer_Score` columns from `df_new`, and use the `StandardScaler` to standardize the feature values. This normalization ensures that all features contribute equally to the model training process, especially those with different units or scales. The target variable is stored in `y`, and we use the `train_test_split` function to divide the dataset into training and test sets.\n",
        "\n",
        "Finally, the first ten rows of the transformed dataframe are displayed using the `head` method to verify that the encoding and preprocessing have been applied correctly."
      ],
      "metadata": {
        "id": "MlELjGX3c9qC"
      }
    },
    {
      "cell_type": "code",
      "source": [
        "from sklearn.preprocessing import LabelEncoder\n",
        "from sklearn.linear_model import LogisticRegression\n",
        "from sklearn.model_selection import train_test_split\n",
        "from sklearn.preprocessing import StandardScaler\n",
        "from sklearn.metrics import accuracy_score, classification_report\n",
        "\n",
        "df_new = pd.DataFrame(df)\n",
        "\n",
        "# Dictionary to store LabelEncoders\n",
        "label_encoders_new = {}\n",
        "\n",
        "# List of categorical columns\n",
        "categorical_columns_new = ['Hotel_Name', 'Reviewer_Nationality', 'days_since_review']\n",
        "\n",
        "# Encoding each categorical column\n",
        "for col in categorical_columns_new:\n",
        "    le = LabelEncoder()  # Create a new LabelEncoder instance\n",
        "    df_new[col] = le.fit_transform(df_new[col])  # Apply Label Encoding\n",
        "    label_encoders_new[col] = le  # Store the encoder for future use\n",
        "\n",
        "# Create binary sentiment label: 1 if score > 8.0, else 0\n",
        "df_new['sentiment_label'] = (df_new['Reviewer_Score'] > 8.0).astype(int)\n",
        "\n",
        "#Prepares data to be used in all four models\n",
        "X = df_new.drop(['sentiment_label', 'Reviewer_Score'], axis=1)\n",
        "y = df_new['sentiment_label']\n",
        "\n",
        "# Display the transformed DataFrame\n",
        "df_new.head(10)\n",
        "\n",
        "\n",
        "# Split into training and testing sets\n",
        "X_train, X_test, y_train, y_test = train_test_split(X, y, test_size=0.2, random_state=42)\n",
        "\n",
        "# Standardize features for models\n",
        "scaler = StandardScaler()\n",
        "X_train_scaled = scaler.fit_transform(X_train)\n",
        "X_test_scaled = scaler.transform(X_test)"
      ],
      "metadata": {
        "id": "AgJsjnPOmLXX",
        "collapsed": true
      },
      "execution_count": null,
      "outputs": []
    },
    {
      "cell_type": "markdown",
      "source": [
        "# **LSTM**"
      ],
      "metadata": {
        "id": "1jCAzM_t37sI"
      }
    },
    {
      "cell_type": "markdown",
      "source": [
        "The LSTM Model:\n",
        "\n",
        "After having preprocessed data, we implemented an LSTM model for our sentiment analysis task. LSTMs are particularly well-suited for text classification problems like sentiment analysis because they can capture contextual information and long-range dependencies in text sequences.\n",
        "\n",
        "Two of the most important hyperparameters for LSTM is network size and learning rate. The network size includes both LSTM units and dense layer dimensions. We chose 128 LSTM units and 64 dense units to balance model complexity and performance. This configuration provides enough capacity to learn patterns without overfitting.\n",
        "As for the learning rate, we use the default Adam optimizer setting (0.001). The learning rate controls how quickly our model updates its weights during training. This parameter determines the size of steps taken when adjusting weights in response to prediction errors\n"
      ],
      "metadata": {
        "id": "zJtb7J9Sj_SO"
      }
    },
    {
      "cell_type": "code",
      "source": [
        "\n",
        "from sklearn.model_selection import train_test_split\n",
        "from tensorflow.keras.models import Sequential\n",
        "from tensorflow.keras.layers import LSTM, Dense, Dropout\n",
        "from tensorflow.keras.callbacks import EarlyStopping\n",
        "import numpy as np\n",
        "\n",
        "\n",
        "\n",
        "# Convert to numpy arrays\n",
        "X_train_array = X_train.values\n",
        "X_test_array = X_test.values\n",
        "\n",
        "# Reshape for LSTM (samples, time steps, features)\n",
        "# Using all features as a single time step\n",
        "X_train_reshaped = X_train_array.reshape(X_train_array.shape[0], 1, X_train_array.shape[1])\n",
        "X_test_reshaped = X_test_array.reshape(X_test_array.shape[0], 1, X_test_array.shape[1])\n",
        "\n",
        "# Build LSTM Model without Embedding layer\n",
        "model = Sequential([\n",
        "    LSTM(128, dropout=0.2, recurrent_dropout=0.2, input_shape=(1, X_train.shape[1])),\n",
        "    Dense(64, activation='relu'),\n",
        "    Dropout(0.5),\n",
        "    Dense(1, activation='sigmoid')\n",
        "])\n",
        "\n",
        "# Compile the model\n",
        "model.compile(\n",
        "    optimizer='adam',\n",
        "    loss='binary_crossentropy',\n",
        "    metrics=['accuracy']\n",
        ")\n",
        "\n",
        "# Early stopping\n",
        "early_stopping = EarlyStopping(\n",
        "    monitor='val_loss',\n",
        "    patience=3,\n",
        "    restore_best_weights=True\n",
        ")\n",
        "\n",
        "# Train the model\n",
        "history = model.fit(\n",
        "    X_train_reshaped, y_train,\n",
        "    epochs=10,\n",
        "    batch_size=32,\n",
        "    validation_split=0.2,\n",
        "    callbacks=[early_stopping],\n",
        "    verbose=1\n",
        ")\n",
        "\n",
        "# Evaluate the model\n",
        "test_loss, accuracy_lstm = model.evaluate(X_test_reshaped, y_test)\n",
        "print(f\"\\nTest Accuracy: {accuracy_lstm:.4f}\")"
      ],
      "metadata": {
        "id": "5vMhZf-SnDnO",
        "colab": {
          "base_uri": "https://localhost:8080/"
        },
        "outputId": "0aefb332-f328-4df8-af7b-5307d8cd6bb2"
      },
      "execution_count": null,
      "outputs": [
        {
          "output_type": "stream",
          "name": "stdout",
          "text": [
            "Epoch 1/10\n"
          ]
        },
        {
          "output_type": "stream",
          "name": "stderr",
          "text": [
            "/usr/local/lib/python3.11/dist-packages/keras/src/layers/rnn/rnn.py:200: UserWarning: Do not pass an `input_shape`/`input_dim` argument to a layer. When using Sequential models, prefer using an `Input(shape)` object as the first layer in the model instead.\n",
            "  super().__init__(**kwargs)\n"
          ]
        },
        {
          "output_type": "stream",
          "name": "stdout",
          "text": [
            "\u001b[1m2000/2000\u001b[0m \u001b[32m━━━━━━━━━━━━━━━━━━━━\u001b[0m\u001b[37m\u001b[0m \u001b[1m21s\u001b[0m 8ms/step - accuracy: 0.6280 - loss: 0.6576 - val_accuracy: 0.6564 - val_loss: 0.6313\n",
            "Epoch 2/10\n",
            "\u001b[1m2000/2000\u001b[0m \u001b[32m━━━━━━━━━━━━━━━━━━━━\u001b[0m\u001b[37m\u001b[0m \u001b[1m16s\u001b[0m 8ms/step - accuracy: 0.6796 - loss: 0.6036 - val_accuracy: 0.7315 - val_loss: 0.5433\n",
            "Epoch 3/10\n",
            "\u001b[1m2000/2000\u001b[0m \u001b[32m━━━━━━━━━━━━━━━━━━━━\u001b[0m\u001b[37m\u001b[0m \u001b[1m21s\u001b[0m 8ms/step - accuracy: 0.6993 - loss: 0.5816 - val_accuracy: 0.7357 - val_loss: 0.5516\n",
            "Epoch 4/10\n",
            "\u001b[1m2000/2000\u001b[0m \u001b[32m━━━━━━━━━━━━━━━━━━━━\u001b[0m\u001b[37m\u001b[0m \u001b[1m19s\u001b[0m 8ms/step - accuracy: 0.6843 - loss: 0.5878 - val_accuracy: 0.7477 - val_loss: 0.5349\n",
            "Epoch 5/10\n",
            "\u001b[1m2000/2000\u001b[0m \u001b[32m━━━━━━━━━━━━━━━━━━━━\u001b[0m\u001b[37m\u001b[0m \u001b[1m15s\u001b[0m 7ms/step - accuracy: 0.6973 - loss: 0.5802 - val_accuracy: 0.7464 - val_loss: 0.5437\n",
            "Epoch 6/10\n",
            "\u001b[1m2000/2000\u001b[0m \u001b[32m━━━━━━━━━━━━━━━━━━━━\u001b[0m\u001b[37m\u001b[0m \u001b[1m22s\u001b[0m 8ms/step - accuracy: 0.7044 - loss: 0.5745 - val_accuracy: 0.7234 - val_loss: 0.5678\n",
            "Epoch 7/10\n",
            "\u001b[1m2000/2000\u001b[0m \u001b[32m━━━━━━━━━━━━━━━━━━━━\u001b[0m\u001b[37m\u001b[0m \u001b[1m15s\u001b[0m 8ms/step - accuracy: 0.7058 - loss: 0.5734 - val_accuracy: 0.7422 - val_loss: 0.5360\n",
            "\u001b[1m625/625\u001b[0m \u001b[32m━━━━━━━━━━━━━━━━━━━━\u001b[0m\u001b[37m\u001b[0m \u001b[1m2s\u001b[0m 3ms/step - accuracy: 0.7457 - loss: 0.5352\n",
            "\n",
            "Test Accuracy: 0.7380\n"
          ]
        }
      ]
    },
    {
      "cell_type": "code",
      "source": [
        "import seaborn as sns\n",
        "import matplotlib.pyplot as plt\n",
        "from sklearn.metrics import confusion_matrix\n",
        "\n",
        "# Generate confusion matrix\n",
        "y_pred_lstm = (model.predict(X_test_reshaped) > 0.5).astype(\"int32\")\n",
        "cm = confusion_matrix(y_test, y_pred_lstm)\n",
        "\n",
        "# Plot heatmap\n",
        "plt.figure(figsize=(6, 5))\n",
        "sns.heatmap(cm, annot=True, fmt='d', cmap='Blues', xticklabels=['Negative', 'Positive'], yticklabels=['Negative', 'Positive'])\n",
        "plt.xlabel(\"Predicted Label\")\n",
        "plt.ylabel(\"True Label\")\n",
        "plt.title(\"Confusion Matrix Heatmap - LSTM Model\")\n",
        "plt.show()\n",
        "\n",
        "# For comparison:\n",
        "# Turn classification report into a dictionary so we can extract values\n",
        "report_lstm = classification_report(y_test, y_pred_lstm, output_dict=True)\n",
        "\n",
        "# Extract weighted average F1 score\n",
        "f1_lstm_weighted = report_lstm['weighted avg']['f1-score']\n"
      ],
      "metadata": {
        "colab": {
          "base_uri": "https://localhost:8080/",
          "height": 505
        },
        "id": "z90e813msH4N",
        "outputId": "ae35d891-bfc5-46d2-c04a-4ff4f33b436f"
      },
      "execution_count": null,
      "outputs": [
        {
          "output_type": "stream",
          "name": "stdout",
          "text": [
            "\u001b[1m625/625\u001b[0m \u001b[32m━━━━━━━━━━━━━━━━━━━━\u001b[0m\u001b[37m\u001b[0m \u001b[1m3s\u001b[0m 4ms/step\n"
          ]
        },
        {
          "output_type": "display_data",
          "data": {
            "text/plain": [
              "<Figure size 600x500 with 2 Axes>"
            ],
            "image/png": "[encoded data removed]"
          },
          "metadata": {}
        }
      ]
    },
    {
      "cell_type": "markdown",
      "source": [
        "# **KNN**"
      ],
      "metadata": {
        "id": "_XMLcKnwmcdp"
      }
    },
    {
      "cell_type": "markdown",
      "source": [
        "We decided to use K-Nearest Neighbors algoritm for the next model, which is a supervised learning method often used for classification and different regression tasks. It is a distance-based algorithm that predicts the label of new data points by looking at the labels of its closest neighbors.\n",
        "\n",
        "StandardScaler is an important step for KNN, which standardizes the features in the dataset by removing the mean and scaling to unit variances. This ensures that each feature has zero mean and unit variance, which is an important step for knn, and will make the machines perform better. How it works, is for each feature x, it transforms the values using the Z-score Normalization formula."
      ],
      "metadata": {
        "id": "OljHuM4VoEDz"
      }
    },
    {
      "cell_type": "code",
      "source": [
        "from sklearn.neighbors import KNeighborsClassifier\n",
        "from sklearn.preprocessing import StandardScaler\n",
        "from sklearn.model_selection import train_test_split\n",
        "from sklearn.metrics import accuracy_score, classification_report\n",
        "\n",
        "\n",
        "# Initialize and train KNN model\n",
        "knn = KNeighborsClassifier(n_neighbors=5)  # You can tune the 'k' value\n",
        "knn.fit(X_train_scaled, y_train)\n",
        "\n",
        "# Predictions\n",
        "y_pred_knn = knn.predict(X_test_scaled)\n",
        "\n",
        "# Evaluate the model\n",
        "accuracy_knn = accuracy_score(y_test, y_pred_knn)\n",
        "print(f\"Test Accuracy: {accuracy_knn:.4f}\")\n",
        "print(classification_report(y_test, y_pred_knn))\n",
        "\n",
        "# For comparison:\n",
        "# Turn classification report into a dictionary so we can extract values\n",
        "report_knn = classification_report(y_test, y_pred_knn, output_dict=True)\n",
        "\n",
        "# Extract weighted average F1 score\n",
        "f1_knn_weighted = report_knn['weighted avg']['f1-score']"
      ],
      "metadata": {
        "colab": {
          "base_uri": "https://localhost:8080/"
        },
        "id": "XR8rh0lcnZtV",
        "outputId": "82874305-6aeb-4e6e-91c6-1c0d6fa03840"
      },
      "execution_count": null,
      "outputs": [
        {
          "output_type": "stream",
          "name": "stdout",
          "text": [
            "Test Accuracy: 0.7427\n",
            "              precision    recall  f1-score   support\n",
            "\n",
            "           0       0.66      0.57      0.61      7150\n",
            "           1       0.78      0.84      0.81     12844\n",
            "\n",
            "    accuracy                           0.74     19994\n",
            "   macro avg       0.72      0.70      0.71     19994\n",
            "weighted avg       0.74      0.74      0.74     19994\n",
            "\n"
          ]
        }
      ]
    },
    {
      "cell_type": "markdown",
      "source": [
        "Overfit check:"
      ],
      "metadata": {
        "id": "sR8qzs1epkC-"
      }
    },
    {
      "cell_type": "code",
      "source": [
        "# Predictions on training set\n",
        "y_train_pred = knn.predict(X_train_scaled)\n",
        "\n",
        "# Compute accuracy for both train and test sets\n",
        "train_accuracy = accuracy_score(y_train, y_train_pred)\n",
        "test_accuracy = accuracy_score(y_test, y_pred_knn)\n",
        "\n",
        "print(f\"Train Accuracy: {train_accuracy:.4f}\")\n",
        "print(f\"Test Accuracy: {test_accuracy:.4f}\")\n"
      ],
      "metadata": {
        "colab": {
          "base_uri": "https://localhost:8080/"
        },
        "id": "RIf_BNNGpjkP",
        "outputId": "6e2a2472-4e69-40ad-d1ee-8c0b7e130fe2"
      },
      "execution_count": null,
      "outputs": [
        {
          "output_type": "stream",
          "name": "stdout",
          "text": [
            "Train Accuracy: 0.8208\n",
            "Test Accuracy: 0.7427\n"
          ]
        }
      ]
    },
    {
      "cell_type": "markdown",
      "source": [
        "# **Logistic Regression**"
      ],
      "metadata": {
        "id": "sUtvUxTDtGU4"
      }
    },
    {
      "cell_type": "markdown",
      "source": [
        "Logistic Regression is a linear model commonly used for binary classification. It is simple, efficient, and serves as a strong baseline for comparison against more complex models. Before training, we standardized the input features using StandardScaler to ensure that all variables contribute equally to the model."
      ],
      "metadata": {
        "id": "dOppzYOlk1wj"
      }
    },
    {
      "cell_type": "code",
      "source": [
        "from sklearn.linear_model import LogisticRegression\n",
        "from sklearn.model_selection import train_test_split\n",
        "from sklearn.preprocessing import StandardScaler\n",
        "from sklearn.metrics import accuracy_score, classification_report\n",
        "\n",
        "# Train Logistic Regression model\n",
        "logreg = LogisticRegression(max_iter=1000)\n",
        "logreg.fit(X_train_scaled, y_train)\n",
        "\n",
        "# Evaluate Logistic Regression\n",
        "y_pred_lr = logreg.predict(X_test_scaled)\n",
        "accuracy_lr = accuracy_score(y_test, y_pred_lr)\n",
        "\n",
        "print(\"Logistic Regression Test Accuracy: {:.4f}\".format(accuracy_lr))\n",
        "print(classification_report(y_test, y_pred_lr))\n",
        "\n",
        "# For comparison:\n",
        "# Turn classification report into a dictionary so we can extract values\n",
        "report_lr = classification_report(y_test, y_pred_lr, output_dict=True)\n",
        "\n",
        "# Extract weighted average F1 score\n",
        "f1_lr_weighted = report_lr['weighted avg']['f1-score']\n",
        "\n"
      ],
      "metadata": {
        "colab": {
          "base_uri": "https://localhost:8080/"
        },
        "id": "c7hLI881u5hw",
        "outputId": "499e8a05-eae2-49a1-88b4-d529046d4468",
        "collapsed": true
      },
      "execution_count": null,
      "outputs": [
        {
          "output_type": "stream",
          "name": "stdout",
          "text": [
            "Logistic Regression Test Accuracy: 0.7661\n",
            "              precision    recall  f1-score   support\n",
            "\n",
            "           0       0.73      0.55      0.63      7150\n",
            "           1       0.78      0.88      0.83     12844\n",
            "\n",
            "    accuracy                           0.77     19994\n",
            "   macro avg       0.75      0.72      0.73     19994\n",
            "weighted avg       0.76      0.77      0.76     19994\n",
            "\n"
          ]
        }
      ]
    },
    {
      "cell_type": "markdown",
      "source": [
        "The model achieved a test accuracy of 0.77 and a weighted F1-score of 0.76, performing well overall. It showed stronger performance on the positive class, while performance on the negative class was lower in recall. This may be due to class imbalance or overlapping feature values."
      ],
      "metadata": {
        "id": "AtjiKiF0k-tM"
      }
    },
    {
      "cell_type": "code",
      "source": [
        "import seaborn as sns\n",
        "import matplotlib.pyplot as plt\n",
        "import pandas as pd\n",
        "\n",
        "# Compute the correlation matrix\n",
        "corr_matrix = df_new.drop(['sentiment_label', 'Reviewer_Score'], axis=1).corr()\n",
        "\n",
        "# Create a heatmap\n",
        "plt.figure(figsize=(10, 8))\n",
        "sns.heatmap(corr_matrix, annot=True, cmap=\"coolwarm\", fmt=\".2f\", linewidths=0.5)\n",
        "plt.title(\"Feature Correlation Heatmap for Logistic Regression\")\n",
        "plt.show()"
      ],
      "metadata": {
        "id": "dGqQbYlyqe3Z",
        "colab": {
          "base_uri": "https://localhost:8080/",
          "height": 906
        },
        "outputId": "4ce87463-3744-442d-9952-24e4b170de08"
      },
      "execution_count": null,
      "outputs": [
        {
          "output_type": "display_data",
          "data": {
            "text/plain": [
              "<Figure size 1000x800 with 2 Axes>"
            ],
            "image/png": "[encoded data removed]"
          },
          "metadata": {}
        }
      ]
    },
    {
      "cell_type": "markdown",
      "source": [
        "The correlation heatmap helps visualize relationships between input features. Strong correlations between 'Additional_Number_of_Scoring' and 'Total_Number_of_Reviews', suggest multicollinearity, which could be fixed in future versions of the model through feature selection or dimensionality reduction."
      ],
      "metadata": {
        "id": "iHj2Qu5ClLwg"
      }
    },
    {
      "cell_type": "markdown",
      "source": [
        "# **Random Forest**"
      ],
      "metadata": {
        "id": "lerQSuWStgHL"
      }
    },
    {
      "cell_type": "markdown",
      "source": [
        "Random Forest is an ensemble learning algorithm that builds multiple decision trees and combines their predictions to improve stability and reduce overfitting. It is robust against noise and can model complex feature interactions without requiring feature scaling. However, for consistency across all models in this project, we applied standardization to the input features before training.\n",
        "\n",
        "For our Random Forest implementation, we used two explicitly defined hyperparameters:\n",
        "\n",
        "\n",
        "n_estimators=100: This controls the number of decision trees in the forest. Higher values typically improve performance by reducing variance but increase computational cost. 100 trees provides a good balance between accuracy and efficiency.\n",
        "\n",
        "\n",
        "random_state=42: This ensures reproducibility of results by fixing the random seed.\n",
        "\n"
      ],
      "metadata": {
        "id": "E76leudOuRcW"
      }
    },
    {
      "cell_type": "code",
      "source": [
        "from sklearn.ensemble import RandomForestClassifier\n",
        "from sklearn.model_selection import train_test_split\n",
        "from sklearn.preprocessing import StandardScaler\n",
        "from sklearn.metrics import accuracy_score, classification_report, confusion_matrix\n",
        "import seaborn as sns\n",
        "import matplotlib.pyplot as plt\n",
        "\n",
        "# Prepare data\n",
        "X = df_new.drop(['sentiment_label', 'Reviewer_Score'], axis=1)\n",
        "y = df_new['sentiment_label']\n",
        "\n",
        "# Split data into training and testing sets\n",
        "X_train, X_test, y_train, y_test = train_test_split(\n",
        "    X, y,\n",
        "    test_size=0.2,\n",
        "    random_state=42\n",
        ")\n",
        "\n",
        "# Standardize features (not strictly necessary for Random Forest, but can help)\n",
        "scaler = StandardScaler()\n",
        "X_train_scaled = scaler.fit_transform(X_train)\n",
        "X_test_scaled = scaler.transform(X_test)\n",
        "\n",
        "# Initialize and train Random Forest model\n",
        "rf_model = RandomForestClassifier(n_estimators=100, random_state=42)\n",
        "rf_model.fit(X_train_scaled, y_train)\n",
        "\n",
        "# Predictions\n",
        "y_pred_rf = rf_model.predict(X_test_scaled)\n",
        "\n",
        "# Evaluate model\n",
        "accuracy_rf = accuracy_score(y_test, y_pred_rf)\n",
        "print(f\"Random Forest Test Accuracy: {accuracy_rf:.4f}\")\n",
        "print(classification_report(y_test, y_pred_rf))\n",
        "\n",
        "# Generate confusion matrix\n",
        "cm_rf = confusion_matrix(y_test, y_pred_rf)\n",
        "\n"
      ],
      "metadata": {
        "id": "aA9Z1vzotj64",
        "colab": {
          "base_uri": "https://localhost:8080/"
        },
        "outputId": "78cf7a6a-d556-4daf-bbae-20f0894e4f71"
      },
      "execution_count": null,
      "outputs": [
        {
          "output_type": "stream",
          "name": "stdout",
          "text": [
            "Random Forest Test Accuracy: 0.7719\n",
            "              precision    recall  f1-score   support\n",
            "\n",
            "           0       0.70      0.63      0.66      7150\n",
            "           1       0.80      0.85      0.83     12844\n",
            "\n",
            "    accuracy                           0.77     19994\n",
            "   macro avg       0.75      0.74      0.75     19994\n",
            "weighted avg       0.77      0.77      0.77     19994\n",
            "\n"
          ]
        }
      ]
    },
    {
      "cell_type": "markdown",
      "source": [
        "The Random Forest model achieved a test accuracy of approximately 77%, with a weighted F1-score of 0.77. The model showed stronger performance on positive reviews (1), with higher precision and recall, while performance on negative reviews (0) was noticeably lower. This imbalance could partly be explained by the data distribution: the dataset contains significantly more positive reviews than negative ones, making it easier for the model to predict the majority class.\n",
        "\n"
      ],
      "metadata": {
        "id": "mIAOZADQwHFy"
      }
    },
    {
      "cell_type": "code",
      "source": [
        "# Plot heatmap\n",
        "plt.figure(figsize=(6, 5))\n",
        "sns.heatmap(cm_rf, annot=True, fmt='d', cmap='Blues', xticklabels=['Negative', 'Positive'], yticklabels=['Negative', 'Positive'])\n",
        "plt.xlabel(\"Predicted Label\")\n",
        "plt.ylabel(\"True Label\")\n",
        "plt.title(\"Confusion Matrix - Random Forest Model\")\n",
        "plt.show()\n",
        "\n",
        "# For comparison:\n",
        "# Turn classification report into a dictionary so we can extract values\n",
        "report_rf = classification_report(y_test, y_pred_rf, output_dict=True)\n",
        "\n",
        "# Extract weighted average F1 score\n",
        "f1_rf_weighted = report_rf['weighted avg']['f1-score']"
      ],
      "metadata": {
        "id": "O5GQe-nGwF7n",
        "colab": {
          "base_uri": "https://localhost:8080/",
          "height": 487
        },
        "outputId": "4eacce1d-2649-4fc4-98e5-fdef2123fba3"
      },
      "execution_count": null,
      "outputs": [
        {
          "output_type": "display_data",
          "data": {
            "text/plain": [
              "<Figure size 600x500 with 2 Axes>"
            ],
            "image/png": "[encoded data removed]"
          },
          "metadata": {}
        }
      ]
    },
    {
      "cell_type": "markdown",
      "source": [
        "The confusion matrix further illustrates the model’s tendency to predict positive reviews more accurately than negative ones. Despite this, overall misclassification rates remain relatively low. Addressing the class imbalance through resampling techniques or adjusting class weights could further improve model performance, particularly for the minority (negative) class."
      ],
      "metadata": {
        "id": "Pvqd-xVbua2I"
      }
    },
    {
      "cell_type": "markdown",
      "source": [
        "# Summary of model-results\n",
        "\n",
        "We trained and evaluated four models for sentiment analysis: Logistic Regression, Random Forest, K-Nearest Neighbors (KNN), and an LSTM neural network. The table below summarizes their performance based on accuracy and weighted average F1 score:"
      ],
      "metadata": {
        "id": "KtWz2vlFZrvo"
      }
    },
    {
      "cell_type": "code",
      "source": [
        "# Example model comparison summary (replace with your actual values)\n",
        "import pandas as pd\n",
        "\n",
        "results = {\n",
        "    \"Model\": [\"Logistic Regression\", \"Random Forest\", \"KNN\", \"LSTM\"],\n",
        "    \"Accuracy\": [accuracy_lr, accuracy_rf, accuracy_knn, accuracy_lstm],\n",
        "    \"F1 Score - Weighted avg.\": [f1_lr_weighted, f1_rf_weighted, f1_knn_weighted, f1_lstm_weighted]\n",
        "}\n",
        "\n",
        "results_df = pd.DataFrame(results)\n",
        "results_df"
      ],
      "metadata": {
        "colab": {
          "base_uri": "https://localhost:8080/",
          "height": 175
        },
        "id": "Vui9K1boh7CA",
        "outputId": "68b7a5ca-8ee2-4855-8cbb-2b6b42f4c165"
      },
      "execution_count": null,
      "outputs": [
        {
          "output_type": "execute_result",
          "data": {
            "text/plain": [
              "                 Model  Accuracy  F1 Score - Weighted avg.\n",
              "0  Logistic Regression  0.766130                  0.757650\n",
              "1        Random Forest  0.771882                  0.768582\n",
              "2                  KNN  0.742673                  0.737687\n",
              "3                 LSTM  0.738021                  0.727827"
            ],
            "text/html": [
              "\n",
              "  <div id=\"df-81d05720-b1cf-4bbd-92d5-015beb4324b2\" class=\"colab-df-container\">\n",
              "    <div>\n",
              "<style scoped>\n",
              "    .dataframe tbody tr th:only-of-type {\n",
              "        vertical-align: middle;\n",
              "    }\n",
              "\n",
              "    .dataframe tbody tr th {\n",
              "        vertical-align: top;\n",
              "    }\n",
              "\n",
              "    .dataframe thead th {\n",
              "        text-align: right;\n",
              "    }\n",
              "</style>\n",
              "<table border=\"1\" class=\"dataframe\">\n",
              "  <thead>\n",
              "    <tr style=\"text-align: right;\">\n",
              "      <th></th>\n",
              "      <th>Model</th>\n",
              "      <th>Accuracy</th>\n",
              "      <th>F1 Score - Weighted avg.</th>\n",
              "    </tr>\n",
              "  </thead>\n",
              "  <tbody>\n",
              "    <tr>\n",
              "      <th>0</th>\n",
              "      <td>Logistic Regression</td>\n",
              "      <td>0.766130</td>\n",
              "      <td>0.757650</td>\n",
              "    </tr>\n",
              "    <tr>\n",
              "      <th>1</th>\n",
              "      <td>Random Forest</td>\n",
              "      <td>0.771882</td>\n",
              "      <td>0.768582</td>\n",
              "    </tr>\n",
              "    <tr>\n",
              "      <th>2</th>\n",
              "      <td>KNN</td>\n",
              "      <td>0.742673</td>\n",
              "      <td>0.737687</td>\n",
              "    </tr>\n",
              "    <tr>\n",
              "      <th>3</th>\n",
              "      <td>LSTM</td>\n",
              "      <td>0.738021</td>\n",
              "      <td>0.727827</td>\n",
              "    </tr>\n",
              "  </tbody>\n",
              "</table>\n",
              "</div>\n",
              "    <div class=\"colab-df-buttons\">\n",
              "\n",
              "  <div class=\"colab-df-container\">\n",
              "    <button class=\"colab-df-convert\" onclick=\"convertToInteractive('df-81d05720-b1cf-4bbd-92d5-015beb4324b2')\"\n",
              "            title=\"Convert this dataframe to an interactive table.\"\n",
              "            style=\"display:none;\">\n",
              "\n",
              "  <svg xmlns=\"http://www.w3.org/2000/svg\" height=\"24px\" viewBox=\"0 -960 960 960\">\n",
              "    <path d=\"M120-120v-720h720v720H120Zm60-500h600v-160H180v160Zm220 220h160v-160H400v160Zm0 220h160v-160H400v160ZM180-400h160v-160H180v160Zm440 0h160v-160H620v160ZM180-180h160v-160H180v160Zm440 0h160v-160H620v160Z\"/>\n",
              "  </svg>\n",
              "    </button>\n",
              "\n",
              "  <style>\n",
              "    .colab-df-container {\n",
              "      display:flex;\n",
              "      gap: 12px;\n",
              "    }\n",
              "\n",
              "    .colab-df-convert {\n",
              "      background-color: #E8F0FE;\n",
              "      border: none;\n",
              "      border-radius: 50%;\n",
              "      cursor: pointer;\n",
              "      display: none;\n",
              "      fill: #1967D2;\n",
              "      height: 32px;\n",
              "      padding: 0 0 0 0;\n",
              "      width: 32px;\n",
              "    }\n",
              "\n",
              "    .colab-df-convert:hover {\n",
              "      background-color: #E2EBFA;\n",
              "      box-shadow: 0px 1px 2px rgba(60, 64, 67, 0.3), 0px 1px 3px 1px rgba(60, 64, 67, 0.15);\n",
              "      fill: #174EA6;\n",
              "    }\n",
              "\n",
              "    .colab-df-buttons div {\n",
              "      margin-bottom: 4px;\n",
              "    }\n",
              "\n",
              "    [theme=dark] .colab-df-convert {\n",
              "      background-color: #3B4455;\n",
              "      fill: #D2E3FC;\n",
              "    }\n",
              "\n",
              "    [theme=dark] .colab-df-convert:hover {\n",
              "      background-color: #434B5C;\n",
              "      box-shadow: 0px 1px 3px 1px rgba(0, 0, 0, 0.15);\n",
              "      filter: drop-shadow(0px 1px 2px rgba(0, 0, 0, 0.3));\n",
              "      fill: #FFFFFF;\n",
              "    }\n",
              "  </style>\n",
              "\n",
              "    <script>\n",
              "      const buttonEl =\n",
              "        document.querySelector('#df-81d05720-b1cf-4bbd-92d5-015beb4324b2 button.colab-df-convert');\n",
              "      buttonEl.style.display =\n",
              "        google.colab.kernel.accessAllowed ? 'block' : 'none';\n",
              "\n",
              "      async function convertToInteractive(key) {\n",
              "        const element = document.querySelector('#df-81d05720-b1cf-4bbd-92d5-015beb4324b2');\n",
              "        const dataTable =\n",
              "          await google.colab.kernel.invokeFunction('convertToInteractive',\n",
              "                                                    [key], {});\n",
              "        if (!dataTable) return;\n",
              "\n",
              "        const docLinkHtml = 'Like what you see? Visit the ' +\n",
              "          '<a target=\"_blank\" href=https://colab.research.google.com/notebooks/data_table.ipynb>data table notebook</a>'\n",
              "          + ' to learn more about interactive tables.';\n",
              "        element.innerHTML = '';\n",
              "        dataTable['output_type'] = 'display_data';\n",
              "        await google.colab.output.renderOutput(dataTable, element);\n",
              "        const docLink = document.createElement('div');\n",
              "        docLink.innerHTML = docLinkHtml;\n",
              "        element.appendChild(docLink);\n",
              "      }\n",
              "    </script>\n",
              "  </div>\n",
              "\n",
              "\n",
              "    <div id=\"df-95e772c0-c460-47ce-a244-dc638823942a\">\n",
              "      <button class=\"colab-df-quickchart\" onclick=\"quickchart('df-95e772c0-c460-47ce-a244-dc638823942a')\"\n",
              "                title=\"Suggest charts\"\n",
              "                style=\"display:none;\">\n",
              "\n",
              "<svg xmlns=\"http://www.w3.org/2000/svg\" height=\"24px\"viewBox=\"0 0 24 24\"\n",
              "     width=\"24px\">\n",
              "    <g>\n",
              "        <path d=\"M19 3H5c-1.1 0-2 .9-2 2v14c0 1.1.9 2 2 2h14c1.1 0 2-.9 2-2V5c0-1.1-.9-2-2-2zM9 17H7v-7h2v7zm4 0h-2V7h2v10zm4 0h-2v-4h2v4z\"/>\n",
              "    </g>\n",
              "</svg>\n",
              "      </button>\n",
              "\n",
              "<style>\n",
              "  .colab-df-quickchart {\n",
              "      --bg-color: #E8F0FE;\n",
              "      --fill-color: #1967D2;\n",
              "      --hover-bg-color: #E2EBFA;\n",
              "      --hover-fill-color: #174EA6;\n",
              "      --disabled-fill-color: #AAA;\n",
              "      --disabled-bg-color: #DDD;\n",
              "  }\n",
              "\n",
              "  [theme=dark] .colab-df-quickchart {\n",
              "      --bg-color: #3B4455;\n",
              "      --fill-color: #D2E3FC;\n",
              "      --hover-bg-color: #434B5C;\n",
              "      --hover-fill-color: #FFFFFF;\n",
              "      --disabled-bg-color: #3B4455;\n",
              "      --disabled-fill-color: #666;\n",
              "  }\n",
              "\n",
              "  .colab-df-quickchart {\n",
              "    background-color: var(--bg-color);\n",
              "    border: none;\n",
              "    border-radius: 50%;\n",
              "    cursor: pointer;\n",
              "    display: none;\n",
              "    fill: var(--fill-color);\n",
              "    height: 32px;\n",
              "    padding: 0;\n",
              "    width: 32px;\n",
              "  }\n",
              "\n",
              "  .colab-df-quickchart:hover {\n",
              "    background-color: var(--hover-bg-color);\n",
              "    box-shadow: 0 1px 2px rgba(60, 64, 67, 0.3), 0 1px 3px 1px rgba(60, 64, 67, 0.15);\n",
              "    fill: var(--button-hover-fill-color);\n",
              "  }\n",
              "\n",
              "  .colab-df-quickchart-complete:disabled,\n",
              "  .colab-df-quickchart-complete:disabled:hover {\n",
              "    background-color: var(--disabled-bg-color);\n",
              "    fill: var(--disabled-fill-color);\n",
              "    box-shadow: none;\n",
              "  }\n",
              "\n",
              "  .colab-df-spinner {\n",
              "    border: 2px solid var(--fill-color);\n",
              "    border-color: transparent;\n",
              "    border-bottom-color: var(--fill-color);\n",
              "    animation:\n",
              "      spin 1s steps(1) infinite;\n",
              "  }\n",
              "\n",
              "  @keyframes spin {\n",
              "    0% {\n",
              "      border-color: transparent;\n",
              "      border-bottom-color: var(--fill-color);\n",
              "      border-left-color: var(--fill-color);\n",
              "    }\n",
              "    20% {\n",
              "      border-color: transparent;\n",
              "      border-left-color: var(--fill-color);\n",
              "      border-top-color: var(--fill-color);\n",
              "    }\n",
              "    30% {\n",
              "      border-color: transparent;\n",
              "      border-left-color: var(--fill-color);\n",
              "      border-top-color: var(--fill-color);\n",
              "      border-right-color: var(--fill-color);\n",
              "    }\n",
              "    40% {\n",
              "      border-color: transparent;\n",
              "      border-right-color: var(--fill-color);\n",
              "      border-top-color: var(--fill-color);\n",
              "    }\n",
              "    60% {\n",
              "      border-color: transparent;\n",
              "      border-right-color: var(--fill-color);\n",
              "    }\n",
              "    80% {\n",
              "      border-color: transparent;\n",
              "      border-right-color: var(--fill-color);\n",
              "      border-bottom-color: var(--fill-color);\n",
              "    }\n",
              "    90% {\n",
              "      border-color: transparent;\n",
              "      border-bottom-color: var(--fill-color);\n",
              "    }\n",
              "  }\n",
              "</style>\n",
              "\n",
              "      <script>\n",
              "        async function quickchart(key) {\n",
              "          const quickchartButtonEl =\n",
              "            document.querySelector('#' + key + ' button');\n",
              "          quickchartButtonEl.disabled = true;  // To prevent multiple clicks.\n",
              "          quickchartButtonEl.classList.add('colab-df-spinner');\n",
              "          try {\n",
              "            const charts = await google.colab.kernel.invokeFunction(\n",
              "                'suggestCharts', [key], {});\n",
              "          } catch (error) {\n",
              "            console.error('Error during call to suggestCharts:', error);\n",
              "          }\n",
              "          quickchartButtonEl.classList.remove('colab-df-spinner');\n",
              "          quickchartButtonEl.classList.add('colab-df-quickchart-complete');\n",
              "        }\n",
              "        (() => {\n",
              "          let quickchartButtonEl =\n",
              "            document.querySelector('#df-95e772c0-c460-47ce-a244-dc638823942a button');\n",
              "          quickchartButtonEl.style.display =\n",
              "            google.colab.kernel.accessAllowed ? 'block' : 'none';\n",
              "        })();\n",
              "      </script>\n",
              "    </div>\n",
              "\n",
              "  <div id=\"id_988d05be-ac70-4817-90e1-a56a8e40b4db\">\n",
              "    <style>\n",
              "      .colab-df-generate {\n",
              "        background-color: #E8F0FE;\n",
              "        border: none;\n",
              "        border-radius: 50%;\n",
              "        cursor: pointer;\n",
              "        display: none;\n",
              "        fill: #1967D2;\n",
              "        height: 32px;\n",
              "        padding: 0 0 0 0;\n",
              "        width: 32px;\n",
              "      }\n",
              "\n",
              "      .colab-df-generate:hover {\n",
              "        background-color: #E2EBFA;\n",
              "        box-shadow: 0px 1px 2px rgba(60, 64, 67, 0.3), 0px 1px 3px 1px rgba(60, 64, 67, 0.15);\n",
              "        fill: #174EA6;\n",
              "      }\n",
              "\n",
              "      [theme=dark] .colab-df-generate {\n",
              "        background-color: #3B4455;\n",
              "        fill: #D2E3FC;\n",
              "      }\n",
              "\n",
              "      [theme=dark] .colab-df-generate:hover {\n",
              "        background-color: #434B5C;\n",
              "        box-shadow: 0px 1px 3px 1px rgba(0, 0, 0, 0.15);\n",
              "        filter: drop-shadow(0px 1px 2px rgba(0, 0, 0, 0.3));\n",
              "        fill: #FFFFFF;\n",
              "      }\n",
              "    </style>\n",
              "    <button class=\"colab-df-generate\" onclick=\"generateWithVariable('results_df')\"\n",
              "            title=\"Generate code using this dataframe.\"\n",
              "            style=\"display:none;\">\n",
              "\n",
              "  <svg xmlns=\"http://www.w3.org/2000/svg\" height=\"24px\"viewBox=\"0 0 24 24\"\n",
              "       width=\"24px\">\n",
              "    <path d=\"M7,19H8.4L18.45,9,17,7.55,7,17.6ZM5,21V16.75L18.45,3.32a2,2,0,0,1,2.83,0l1.4,1.43a1.91,1.91,0,0,1,.58,1.4,1.91,1.91,0,0,1-.58,1.4L9.25,21ZM18.45,9,17,7.55Zm-12,3A5.31,5.31,0,0,0,4.9,8.1,5.31,5.31,0,0,0,1,6.5,5.31,5.31,0,0,0,4.9,4.9,5.31,5.31,0,0,0,6.5,1,5.31,5.31,0,0,0,8.1,4.9,5.31,5.31,0,0,0,12,6.5,5.46,5.46,0,0,0,6.5,12Z\"/>\n",
              "  </svg>\n",
              "    </button>\n",
              "    <script>\n",
              "      (() => {\n",
              "      const buttonEl =\n",
              "        document.querySelector('#id_988d05be-ac70-4817-90e1-a56a8e40b4db button.colab-df-generate');\n",
              "      buttonEl.style.display =\n",
              "        google.colab.kernel.accessAllowed ? 'block' : 'none';\n",
              "\n",
              "      buttonEl.onclick = () => {\n",
              "        google.colab.notebook.generateWithVariable('results_df');\n",
              "      }\n",
              "      })();\n",
              "    </script>\n",
              "  </div>\n",
              "\n",
              "    </div>\n",
              "  </div>\n"
            ],
            "application/vnd.google.colaboratory.intrinsic+json": {
              "type": "dataframe",
              "variable_name": "results_df",
              "summary": "{\n  \"name\": \"results_df\",\n  \"rows\": 4,\n  \"fields\": [\n    {\n      \"column\": \"Model\",\n      \"properties\": {\n        \"dtype\": \"string\",\n        \"num_unique_values\": 4,\n        \"samples\": [\n          \"Random Forest\",\n          \"LSTM\",\n          \"Logistic Regression\"\n        ],\n        \"semantic_type\": \"\",\n        \"description\": \"\"\n      }\n    },\n    {\n      \"column\": \"Accuracy\",\n      \"properties\": {\n        \"dtype\": \"number\",\n        \"std\": 0.016819366129640908,\n        \"min\": 0.7380214333534241,\n        \"max\": 0.7718815644693408,\n        \"num_unique_values\": 4,\n        \"samples\": [\n          0.7718815644693408,\n          0.7380214333534241,\n          0.7661298389516855\n        ],\n        \"semantic_type\": \"\",\n        \"description\": \"\"\n      }\n    },\n    {\n      \"column\": \"F1 Score - Weighted avg.\",\n      \"properties\": {\n        \"dtype\": \"number\",\n        \"std\": 0.018529580866810395,\n        \"min\": 0.7278267925500461,\n        \"max\": 0.7685816698578495,\n        \"num_unique_values\": 4,\n        \"samples\": [\n          0.7685816698578495,\n          0.7278267925500461,\n          0.7576502922082279\n        ],\n        \"semantic_type\": \"\",\n        \"description\": \"\"\n      }\n    }\n  ]\n}"
            }
          },
          "metadata": {},
          "execution_count": 16
        }
      ]
    },
    {
      "cell_type": "markdown",
      "source": [
        "Among the models, Random Forest performed the best overall, achieving the highest accuracy (77.19%) and the highest weighted F1 score (76.86%). Logistic Regression also showed solid performance with slightly lower metrics. The LSTM and KNN models performed similarly but slightly below the tree-based models. This result suggests that traditional machine learning models like Random Forest can be highly effective for text-based sentiment classification, especially with well-engineered features.\n",
        "\n",
        "\n",
        "\n",
        "Despite LSTM being a neural model designed for sequence data, it did not outperform simpler models in this case, possibly due to limited training data, model complexity, or the effectiveness of the feature engineering applied to traditional models. For practical applications in hotel review sentiment analysis, our findings suggest implementing the computationally efficient Random Forest model would provide optimal results while requiring fewer resources than deep learning approaches.\n",
        "\n",
        "\n",
        "\n",
        "\n"
      ],
      "metadata": {
        "id": "GVVv4D3srhlo"
      }
    },
    {
      "cell_type": "markdown",
      "source": [
        "# **Task 2:**"
      ],
      "metadata": {
        "id": "qz1fK65LnWNs"
      }
    },
    {
      "cell_type": "markdown",
      "source": [
        "# CNN:"
      ],
      "metadata": {
        "id": "bswP6l9yhclW"
      }
    },
    {
      "cell_type": "markdown",
      "source": [
        "We use a custom Convolutional Neural Network (CNN) model to train on the CIFAR-10 dataset. This approach allows us to build a lightweight yet effective architecture tailored to the binary classification task of identifying whether an image contains a cat or not. The CIFAR-10 dataset consists of 10 classes, with only 1/10 of the images belonging to the \"cat\" class. This imbalance can lead to biased predictions favoring the majority class (\"not-cat\"). To address this, we introduced class weights during training, assigning higher importance to the minority class (\"cat\") to ensure the model learns to correctly identify cat images.\n",
        "\n",
        "Additionally, we increased the number of training epochs from 5 to 10 to allow the model to learn more effectively from the data. This adjustment helps the model achieve better performance by giving it more time to optimize its parameters and reduce both training and validation loss.\n",
        "\n",
        "The model is trained using the binary cross-entropy loss function, with a sigmoid activation function in the output layer to produce probabilities for the \"cat\" class. If the prediction probability exceeds 50%, the model classifies the image as a \"cat.\" This setup ensures that the model is well-suited for the binary classification task and can handle the inherent imbalance in the dataset effectively."
      ],
      "metadata": {
        "id": "1aFwq0u02Ymy"
      }
    },
    {
      "cell_type": "code",
      "source": [
        "import tensorflow as tf\n",
        "from tensorflow import keras\n",
        "import numpy as np\n",
        "import cv2\n",
        "from tensorflow.keras.models import Sequential\n",
        "from tensorflow.keras.layers import Conv2D, MaxPooling2D, Flatten, Dense\n",
        "from sklearn.utils.class_weight import compute_class_weight\n",
        "\n",
        "# Load CIFAR-10 dataset\n",
        "(x_train, y_train), (x_test, y_test) = keras.datasets.cifar10.load_data()\n",
        "\n",
        "# Define CIFAR-10 class names\n",
        "class_names = [\"airplane\", \"automobile\", \"bird\", \"cat\", \"deer\",\n",
        "               \"dog\", \"frog\", \"horse\", \"ship\", \"truck\"]\n",
        "\n",
        "# Binary classification for \"Cat\"\n",
        "chosen_class = 3\n",
        "\n",
        "# Convert labels to binary classification (cat=1, not-cat=0)\n",
        "y_train_binary = (y_train.reshape(-1) == chosen_class).astype(np.float32)\n",
        "y_test_binary = (y_test.reshape(-1) == chosen_class).astype(np.float32)\n",
        "\n",
        "# Normalize images (scale pixel values to [0, 1])\n",
        "x_train = x_train / 255.0\n",
        "x_test = x_test / 255.0\n",
        "\n",
        "# Compute class weights\n",
        "class_weights = compute_class_weight(\n",
        "    class_weight='balanced',\n",
        "    classes=np.unique(y_train_binary),\n",
        "    y=y_train_binary\n",
        ")\n",
        "class_weights_dict = {0: class_weights[0], 1: class_weights[1]}\n",
        "\n",
        "# Build a simple CNN model\n",
        "model = Sequential([\n",
        "    Conv2D(32, (3, 3), activation='relu', input_shape=(32, 32, 3)),\n",
        "    MaxPooling2D((2, 2)),\n",
        "    Conv2D(64, (3, 3), activation='relu'),\n",
        "    MaxPooling2D((2, 2)),\n",
        "    Flatten(),\n",
        "    Dense(128, activation='relu'),\n",
        "    Dense(1, activation='sigmoid')  # Binary classification\n",
        "])\n",
        "\n",
        "# Compile the model\n",
        "model.compile(optimizer='adam', loss='binary_crossentropy', metrics=['accuracy'])\n",
        "\n",
        "# Train the model with class weights\n",
        "model.fit(\n",
        "    x_train, y_train_binary,\n",
        "    epochs=10,\n",
        "    batch_size=64,\n",
        "    validation_data=(x_test, y_test_binary),\n",
        "    class_weight=class_weights_dict  # Add class weights here\n",
        ")\n",
        "\n",
        "# Load and preprocess the test image\n",
        "img_path = \"new_cat.jpg\"\n",
        "new_img = cv2.imread(img_path)  # Read the image\n",
        "new_img = cv2.cvtColor(new_img, cv2.COLOR_BGR2RGB)  # Convert from BGR to RGB\n",
        "new_img = cv2.resize(new_img, (32, 32))  # Resize to 32x32\n",
        "new_img = new_img / 255.0  # Normalize pixel values to [0, 1]\n",
        "new_img = np.expand_dims(new_img, axis=0)  # Add batch dimension\n",
        "\n",
        "# Make a prediction\n",
        "prediction = model.predict(new_img)[0][0]\n",
        "\n",
        "threshold = 0.5\n",
        "classification = (prediction > threshold).astype(int)\n",
        "\n",
        "if prediction > threshold:\n",
        "    print(\"This image is classified as a Cat.\")\n",
        "    print(f\"Classification score: {classification} (0=Not Cat, 1=Cat)\")\n",
        "else:\n",
        "    print(\"This image is NOT classified as a Cat.\")\n",
        "    print(f\"Classification score: {classification} (0=Not Cat, 1=Cat)\")\n",
        "print(f\"Prediction score: {prediction}\")\n"
      ],
      "metadata": {
        "colab": {
          "base_uri": "https://localhost:8080/"
        },
        "id": "--mrsNEkhhJz",
        "outputId": "9b471f8c-024d-4a61-9c15-ec1bcee912ea"
      },
      "execution_count": null,
      "outputs": [
        {
          "output_type": "stream",
          "name": "stderr",
          "text": [
            "/usr/local/lib/python3.11/dist-packages/keras/src/layers/convolutional/base_conv.py:107: UserWarning: Do not pass an `input_shape`/`input_dim` argument to a layer. When using Sequential models, prefer using an `Input(shape)` object as the first layer in the model instead.\n",
            "  super().__init__(activity_regularizer=activity_regularizer, **kwargs)\n"
          ]
        },
        {
          "output_type": "stream",
          "name": "stdout",
          "text": [
            "Epoch 1/10\n",
            "\u001b[1m782/782\u001b[0m \u001b[32m━━━━━━━━━━━━━━━━━━━━\u001b[0m\u001b[37m\u001b[0m \u001b[1m65s\u001b[0m 81ms/step - accuracy: 0.6472 - loss: 0.6124 - val_accuracy: 0.7005 - val_loss: 0.5326\n",
            "Epoch 2/10\n",
            "\u001b[1m782/782\u001b[0m \u001b[32m━━━━━━━━━━━━━━━━━━━━\u001b[0m\u001b[37m\u001b[0m \u001b[1m65s\u001b[0m 83ms/step - accuracy: 0.7053 - loss: 0.5038 - val_accuracy: 0.7472 - val_loss: 0.4659\n",
            "Epoch 3/10\n",
            "\u001b[1m782/782\u001b[0m \u001b[32m━━━━━━━━━━━━━━━━━━━━\u001b[0m\u001b[37m\u001b[0m \u001b[1m79s\u001b[0m 79ms/step - accuracy: 0.7388 - loss: 0.4626 - val_accuracy: 0.8092 - val_loss: 0.3820\n",
            "Epoch 4/10\n",
            "\u001b[1m782/782\u001b[0m \u001b[32m━━━━━━━━━━━━━━━━━━━━\u001b[0m\u001b[37m\u001b[0m \u001b[1m85s\u001b[0m 83ms/step - accuracy: 0.7629 - loss: 0.4294 - val_accuracy: 0.6864 - val_loss: 0.5532\n",
            "Epoch 5/10\n",
            "\u001b[1m782/782\u001b[0m \u001b[32m━━━━━━━━━━━━━━━━━━━━\u001b[0m\u001b[37m\u001b[0m \u001b[1m81s\u001b[0m 82ms/step - accuracy: 0.7769 - loss: 0.4062 - val_accuracy: 0.7966 - val_loss: 0.4073\n",
            "Epoch 6/10\n",
            "\u001b[1m782/782\u001b[0m \u001b[32m━━━━━━━━━━━━━━━━━━━━\u001b[0m\u001b[37m\u001b[0m \u001b[1m81s\u001b[0m 81ms/step - accuracy: 0.8040 - loss: 0.3681 - val_accuracy: 0.8155 - val_loss: 0.3720\n",
            "Epoch 7/10\n",
            "\u001b[1m782/782\u001b[0m \u001b[32m━━━━━━━━━━━━━━━━━━━━\u001b[0m\u001b[37m\u001b[0m \u001b[1m63s\u001b[0m 80ms/step - accuracy: 0.8139 - loss: 0.3518 - val_accuracy: 0.8255 - val_loss: 0.3630\n",
            "Epoch 8/10\n",
            "\u001b[1m782/782\u001b[0m \u001b[32m━━━━━━━━━━━━━━━━━━━━\u001b[0m\u001b[37m\u001b[0m \u001b[1m90s\u001b[0m 91ms/step - accuracy: 0.8342 - loss: 0.3188 - val_accuracy: 0.8185 - val_loss: 0.3762\n",
            "Epoch 9/10\n",
            "\u001b[1m782/782\u001b[0m \u001b[32m━━━━━━━━━━━━━━━━━━━━\u001b[0m\u001b[37m\u001b[0m \u001b[1m76s\u001b[0m 84ms/step - accuracy: 0.8521 - loss: 0.2818 - val_accuracy: 0.7958 - val_loss: 0.4207\n",
            "Epoch 10/10\n",
            "\u001b[1m782/782\u001b[0m \u001b[32m━━━━━━━━━━━━━━━━━━━━\u001b[0m\u001b[37m\u001b[0m \u001b[1m79s\u001b[0m 80ms/step - accuracy: 0.8747 - loss: 0.2503 - val_accuracy: 0.8730 - val_loss: 0.3094\n",
            "\u001b[1m1/1\u001b[0m \u001b[32m━━━━━━━━━━━━━━━━━━━━\u001b[0m\u001b[37m\u001b[0m \u001b[1m0s\u001b[0m 138ms/step\n",
            "This image is classified as a Cat.\n",
            "Classification score: 1 (0=Not Cat, 1=Cat)\n",
            "Prediction score: 0.851222813129425\n"
          ]
        }
      ]
    },
    {
      "cell_type": "markdown",
      "source": [
        "# Summary Task 2:\n",
        "We built a custom CNN for binary classification on the CIFAR-10 dataset (cat vs. not-cat).\n",
        "To address class imbalance, we applied class weights during training.\n",
        "The model architecture included two convolutional layers, pooling, and dense layers.\n",
        "Training was extended to 10 epochs to improve learning and reduce overfitting.\n",
        "We used binary cross-entropy loss and sigmoid activation for probability output.\n",
        "Images were classified as \"cat\" if the prediction probability exceeded 50%.\n",
        "The model reached a validation accuracy of around 85% after training.\n",
        "Performance improved steadily across epochs, with reduced loss.\n",
        "Finally, the trained model successfully classified a new cat image.\n",
        "This approach effectively handled imbalance and delivered strong results."
      ],
      "metadata": {
        "id": "OI-Or0okcrMR"
      }
    }
  ],
  "metadata": {
    "colab": {
      "provenance": []
    },
    "kernelspec": {
      "display_name": "Python 3",
      "name": "python3"
    },
    "language_info": {
      "name": "python"
    }
  },
  "nbformat": 4,
  "nbformat_minor": 0
}